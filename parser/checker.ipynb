{
 "cells": [
  {
   "cell_type": "code",
   "execution_count": 240,
   "metadata": {},
   "outputs": [],
   "source": [
    "import pandas as pd\n",
    "import json\n",
    "import re\n",
    "from urllib.parse import urlparse\n",
    "\n",
    "with open('/Users/timkh/webassembl/outguard/instrumentation/js_fingerprint/output.json', 'r') as wap_json:\n",
    "    wappalyzer = json.load(wap_json)\n",
    "result = pd.read_csv('/Users/timkh/webassembl/outguard/parser/wasmsite_parsed.csv')"
   ]
  },
  {
   "cell_type": "code",
   "execution_count": 274,
   "metadata": {},
   "outputs": [],
   "source": [
    "pattern = r'jsecoin|coinhive|deepminer|coinimp|crypto-loot|projectpoi|coinlab|cloudcoins|monerominer|coinhave|monero\\.cc|webmine|inwemo'"
   ]
  },
  {
   "cell_type": "code",
   "execution_count": 243,
   "metadata": {},
   "outputs": [],
   "source": [
    "with open('/Users/timkh/webassembl/outguard/resources/miners-fingerprinting.txt', 'r') as fi:\n",
    "    finger = fi.readlines()"
   ]
  },
  {
   "cell_type": "code",
   "execution_count": 262,
   "metadata": {},
   "outputs": [],
   "source": [
    "finger = pd.Series(finger).str.split('http://www.').str[1].str.split('/\\t').str[0]"
   ]
  },
  {
   "cell_type": "code",
   "execution_count": 59,
   "metadata": {},
   "outputs": [],
   "source": [
    "with open('/Users/timkh/webassembl/outguard/instrumentation/alive_urls.txt', 'r') as f:\n",
    "    url = f.readlines()"
   ]
  },
  {
   "cell_type": "code",
   "execution_count": 149,
   "metadata": {},
   "outputs": [],
   "source": [
    "alive_df = pd.DataFrame(columns= result.columns, index=[0])"
   ]
  },
  {
   "cell_type": "code",
   "execution_count": 150,
   "metadata": {},
   "outputs": [],
   "source": [
    "for i in range(len(result)):\n",
    "    for j in range(len(url)):\n",
    "        if result.url_path[i].split('-1702')[0] == url[j].split('\\n')[0]:\n",
    "            alive_df.loc[i] = result.iloc[i]"
   ]
  },
  {
   "cell_type": "code",
   "execution_count": 192,
   "metadata": {},
   "outputs": [],
   "source": [
    "alive_df['url'] = alive_df.url_path.str.split('-170').str[0]\n",
    "alive_df = alive_df.drop_duplicates(['url'], keep='first')"
   ]
  },
  {
   "cell_type": "code",
   "execution_count": 303,
   "metadata": {},
   "outputs": [
    {
     "data": {
      "text/plain": [
       "0    2587\n",
       "Name: label, dtype: int64"
      ]
     },
     "execution_count": 303,
     "metadata": {},
     "output_type": "execute_result"
    }
   ],
   "source": [
    "alive_df.label.value_counts()"
   ]
  },
  {
   "cell_type": "code",
   "execution_count": 332,
   "metadata": {},
   "outputs": [
    {
     "name": "stderr",
     "output_type": "stream",
     "text": [
      "/var/folders/cm/t1j_h30d34sbggmtvprdjqk80000gn/T/ipykernel_24699/2533214085.py:1: SettingWithCopyWarning: \n",
      "A value is trying to be set on a copy of a slice from a DataFrame.\n",
      "Try using .loc[row_indexer,col_indexer] = value instead\n",
      "\n",
      "See the caveats in the documentation: https://pandas.pydata.org/pandas-docs/stable/user_guide/indexing.html#returning-a-view-versus-a-copy\n",
      "  alive_df['label'] = 0\n",
      "/var/folders/cm/t1j_h30d34sbggmtvprdjqk80000gn/T/ipykernel_24699/2533214085.py:9: SettingWithCopyWarning: \n",
      "A value is trying to be set on a copy of a slice from a DataFrame\n",
      "\n",
      "See the caveats in the documentation: https://pandas.pydata.org/pandas-docs/stable/user_guide/indexing.html#returning-a-view-versus-a-copy\n",
      "  alive_df['label'].iloc[i] = 1\n",
      "/var/folders/cm/t1j_h30d34sbggmtvprdjqk80000gn/T/ipykernel_24699/2533214085.py:7: SettingWithCopyWarning: \n",
      "A value is trying to be set on a copy of a slice from a DataFrame\n",
      "\n",
      "See the caveats in the documentation: https://pandas.pydata.org/pandas-docs/stable/user_guide/indexing.html#returning-a-view-versus-a-copy\n",
      "  alive_df['label'].iloc[i] = 1\n"
     ]
    }
   ],
   "source": [
    "alive_df['label'] = 0\n",
    "for key, val in pd.DataFrame(wappalyzer).urls.items():\n",
    "    ul = urlparse(str(list(val.keys())[0])).hostname\n",
    "    for i in range(len(alive_df)):\n",
    "        # print(list(val.keys())[0])\n",
    "        if ((ul == alive_df['url'].iloc[i]) & (re.search(pattern, ul, re.IGNORECASE) is not None)):\n",
    "            alive_df['label'].iloc[i] = 1\n",
    "        elif ((ul == alive_df['url'].iloc[i]) & ((ul in list(finger)) == True)):\n",
    "            alive_df['label'].iloc[i] = 1"
   ]
  },
  {
   "cell_type": "code",
   "execution_count": 337,
   "metadata": {},
   "outputs": [
    {
     "data": {
      "text/plain": [
       "0    2559\n",
       "1      28\n",
       "Name: label, dtype: int64"
      ]
     },
     "execution_count": 337,
     "metadata": {},
     "output_type": "execute_result"
    }
   ],
   "source": [
    "alive_df.label.value_counts()"
   ]
  }
 ],
 "metadata": {
  "kernelspec": {
   "display_name": "base",
   "language": "python",
   "name": "base"
  },
  "language_info": {
   "codemirror_mode": {
    "name": "ipython",
    "version": 3
   },
   "file_extension": ".py",
   "mimetype": "text/x-python",
   "name": "python",
   "nbconvert_exporter": "python",
   "pygments_lexer": "ipython3",
   "version": "3.9.13"
  }
 },
 "nbformat": 4,
 "nbformat_minor": 2
}
